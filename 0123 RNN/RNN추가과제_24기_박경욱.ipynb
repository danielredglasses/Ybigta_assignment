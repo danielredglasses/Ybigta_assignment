{
  "cells": [
    {
      "cell_type": "markdown",
      "metadata": {
        "id": "UmJ-t9b50PiK"
      },
      "source": [
        "##Text Generation using RNN LSTM (Pytorch)\n",
        "###Lyrics generatator\n",
        "🤖 참고한 코드  \n",
        "https://github.com/trekhleb/machine-learning-experiments/tree/0cfc7cac2daaff3e37b33bbf1284d3f19a5d78a1/experiments/text_generation_shakespeare_rnn   \n",
        "https://www.kaggle.com/code/super13579/let-s-auto-write-the-deep-purple-lysics-pytorch/notebook#Let's-use-the-Deep-Purple-lysics-to-train-a-LSTM-simulated-Deep-Purple-write-lyrics-automatically-(Rock!!)   \n",
        "& special thanks to DS 22기 조성원  \n",
        "🤖 데이터셋   \n",
        "from kaggle  \n",
        "🤖 LSTM 논문  \n",
        "https://www.bioinf.jku.at/publications/older/2604.pdf  \n"
      ]
    },
    {
      "cell_type": "markdown",
      "metadata": {
        "id": "GGPRHPzB089b"
      },
      "source": [
        "##I. INTRODUCTION  \n",
        "Implementing a Recurrent Neural Network (RNN), specifically Long-Short Term Memory (LSTM), to create a lyrics generator."
      ]
    },
    {
      "cell_type": "markdown",
      "metadata": {
        "id": "oQPMObZT1Cvw"
      },
      "source": [
        "## Import dependencies"
      ]
    },
    {
      "cell_type": "code",
      "execution_count": 1,
      "metadata": {
        "id": "aUafOKUy1Ezw"
      },
      "outputs": [],
      "source": [
        "import matplotlib.pyplot as plt\n",
        "import numpy as np\n",
        "import platform\n",
        "import time\n",
        "import pathlib\n",
        "import os\n",
        "\n",
        "import torch\n",
        "import torch.nn as nn\n",
        "import torch.nn.functional as F\n",
        "import torch.optim as optim\n",
        "from torchvision import datasets\n",
        "from torchvision.transforms import ToTensor\n",
        "import matplotlib.pyplot as plt\n",
        "from torch.utils.data import DataLoader\n",
        "from torch.utils.data import Dataset"
      ]
    },
    {
      "cell_type": "markdown",
      "metadata": {
        "id": "LjSB9AyB1Imb"
      },
      "source": [
        "## Download the dataset"
      ]
    },
    {
      "cell_type": "code",
      "execution_count": 2,
      "metadata": {
        "id": "0dt9XuA_1KLX",
        "colab": {
          "base_uri": "https://localhost:8080/"
        },
        "outputId": "28a793ff-595d-4775-d314-73e209047b5d"
      },
      "outputs": [
        {
          "output_type": "stream",
          "name": "stdout",
          "text": [
            "Mounted at /content/drive\n"
          ]
        }
      ],
      "source": [
        "from google.colab import drive\n",
        "drive.mount('/content/drive')"
      ]
    },
    {
      "cell_type": "code",
      "execution_count": 3,
      "metadata": {
        "id": "_i-KTLK21M8x",
        "colab": {
          "base_uri": "https://localhost:8080/",
          "height": 206
        },
        "outputId": "e4719994-752b-44f0-a2cc-4b686764a491"
      },
      "outputs": [
        {
          "output_type": "execute_result",
          "data": {
            "text/plain": [
              "   Unnamed: 0        artist  \\\n",
              "0           0  Elijah Blake   \n",
              "1           1  Elijah Blake   \n",
              "2           2  Elijah Blake   \n",
              "3           3  Elijah Blake   \n",
              "4           4  Elijah Blake   \n",
              "\n",
              "                                                 seq                song  \\\n",
              "0  No, no\\r\\nI ain't ever trapped out the bando\\r...            Everyday   \n",
              "1  The drinks go down and smoke goes up, I feel m...    Live Till We Die   \n",
              "2  She don't live on planet Earth no more\\r\\nShe ...       The Otherside   \n",
              "3  Trippin' off that Grigio, mobbin', lights low\\...               Pinot   \n",
              "4  I see a midnight panther, so gallant and so br...  Shadows & Diamonds   \n",
              "\n",
              "   label  \n",
              "0  0.626  \n",
              "1  0.630  \n",
              "2  0.240  \n",
              "3  0.536  \n",
              "4  0.371  "
            ],
            "text/html": [
              "\n",
              "  <div id=\"df-d750a2e3-5bc9-4e44-ad87-28eecda75125\" class=\"colab-df-container\">\n",
              "    <div>\n",
              "<style scoped>\n",
              "    .dataframe tbody tr th:only-of-type {\n",
              "        vertical-align: middle;\n",
              "    }\n",
              "\n",
              "    .dataframe tbody tr th {\n",
              "        vertical-align: top;\n",
              "    }\n",
              "\n",
              "    .dataframe thead th {\n",
              "        text-align: right;\n",
              "    }\n",
              "</style>\n",
              "<table border=\"1\" class=\"dataframe\">\n",
              "  <thead>\n",
              "    <tr style=\"text-align: right;\">\n",
              "      <th></th>\n",
              "      <th>Unnamed: 0</th>\n",
              "      <th>artist</th>\n",
              "      <th>seq</th>\n",
              "      <th>song</th>\n",
              "      <th>label</th>\n",
              "    </tr>\n",
              "  </thead>\n",
              "  <tbody>\n",
              "    <tr>\n",
              "      <th>0</th>\n",
              "      <td>0</td>\n",
              "      <td>Elijah Blake</td>\n",
              "      <td>No, no\\r\\nI ain't ever trapped out the bando\\r...</td>\n",
              "      <td>Everyday</td>\n",
              "      <td>0.626</td>\n",
              "    </tr>\n",
              "    <tr>\n",
              "      <th>1</th>\n",
              "      <td>1</td>\n",
              "      <td>Elijah Blake</td>\n",
              "      <td>The drinks go down and smoke goes up, I feel m...</td>\n",
              "      <td>Live Till We Die</td>\n",
              "      <td>0.630</td>\n",
              "    </tr>\n",
              "    <tr>\n",
              "      <th>2</th>\n",
              "      <td>2</td>\n",
              "      <td>Elijah Blake</td>\n",
              "      <td>She don't live on planet Earth no more\\r\\nShe ...</td>\n",
              "      <td>The Otherside</td>\n",
              "      <td>0.240</td>\n",
              "    </tr>\n",
              "    <tr>\n",
              "      <th>3</th>\n",
              "      <td>3</td>\n",
              "      <td>Elijah Blake</td>\n",
              "      <td>Trippin' off that Grigio, mobbin', lights low\\...</td>\n",
              "      <td>Pinot</td>\n",
              "      <td>0.536</td>\n",
              "    </tr>\n",
              "    <tr>\n",
              "      <th>4</th>\n",
              "      <td>4</td>\n",
              "      <td>Elijah Blake</td>\n",
              "      <td>I see a midnight panther, so gallant and so br...</td>\n",
              "      <td>Shadows &amp; Diamonds</td>\n",
              "      <td>0.371</td>\n",
              "    </tr>\n",
              "  </tbody>\n",
              "</table>\n",
              "</div>\n",
              "    <div class=\"colab-df-buttons\">\n",
              "\n",
              "  <div class=\"colab-df-container\">\n",
              "    <button class=\"colab-df-convert\" onclick=\"convertToInteractive('df-d750a2e3-5bc9-4e44-ad87-28eecda75125')\"\n",
              "            title=\"Convert this dataframe to an interactive table.\"\n",
              "            style=\"display:none;\">\n",
              "\n",
              "  <svg xmlns=\"http://www.w3.org/2000/svg\" height=\"24px\" viewBox=\"0 -960 960 960\">\n",
              "    <path d=\"M120-120v-720h720v720H120Zm60-500h600v-160H180v160Zm220 220h160v-160H400v160Zm0 220h160v-160H400v160ZM180-400h160v-160H180v160Zm440 0h160v-160H620v160ZM180-180h160v-160H180v160Zm440 0h160v-160H620v160Z\"/>\n",
              "  </svg>\n",
              "    </button>\n",
              "\n",
              "  <style>\n",
              "    .colab-df-container {\n",
              "      display:flex;\n",
              "      gap: 12px;\n",
              "    }\n",
              "\n",
              "    .colab-df-convert {\n",
              "      background-color: #E8F0FE;\n",
              "      border: none;\n",
              "      border-radius: 50%;\n",
              "      cursor: pointer;\n",
              "      display: none;\n",
              "      fill: #1967D2;\n",
              "      height: 32px;\n",
              "      padding: 0 0 0 0;\n",
              "      width: 32px;\n",
              "    }\n",
              "\n",
              "    .colab-df-convert:hover {\n",
              "      background-color: #E2EBFA;\n",
              "      box-shadow: 0px 1px 2px rgba(60, 64, 67, 0.3), 0px 1px 3px 1px rgba(60, 64, 67, 0.15);\n",
              "      fill: #174EA6;\n",
              "    }\n",
              "\n",
              "    .colab-df-buttons div {\n",
              "      margin-bottom: 4px;\n",
              "    }\n",
              "\n",
              "    [theme=dark] .colab-df-convert {\n",
              "      background-color: #3B4455;\n",
              "      fill: #D2E3FC;\n",
              "    }\n",
              "\n",
              "    [theme=dark] .colab-df-convert:hover {\n",
              "      background-color: #434B5C;\n",
              "      box-shadow: 0px 1px 3px 1px rgba(0, 0, 0, 0.15);\n",
              "      filter: drop-shadow(0px 1px 2px rgba(0, 0, 0, 0.3));\n",
              "      fill: #FFFFFF;\n",
              "    }\n",
              "  </style>\n",
              "\n",
              "    <script>\n",
              "      const buttonEl =\n",
              "        document.querySelector('#df-d750a2e3-5bc9-4e44-ad87-28eecda75125 button.colab-df-convert');\n",
              "      buttonEl.style.display =\n",
              "        google.colab.kernel.accessAllowed ? 'block' : 'none';\n",
              "\n",
              "      async function convertToInteractive(key) {\n",
              "        const element = document.querySelector('#df-d750a2e3-5bc9-4e44-ad87-28eecda75125');\n",
              "        const dataTable =\n",
              "          await google.colab.kernel.invokeFunction('convertToInteractive',\n",
              "                                                    [key], {});\n",
              "        if (!dataTable) return;\n",
              "\n",
              "        const docLinkHtml = 'Like what you see? Visit the ' +\n",
              "          '<a target=\"_blank\" href=https://colab.research.google.com/notebooks/data_table.ipynb>data table notebook</a>'\n",
              "          + ' to learn more about interactive tables.';\n",
              "        element.innerHTML = '';\n",
              "        dataTable['output_type'] = 'display_data';\n",
              "        await google.colab.output.renderOutput(dataTable, element);\n",
              "        const docLink = document.createElement('div');\n",
              "        docLink.innerHTML = docLinkHtml;\n",
              "        element.appendChild(docLink);\n",
              "      }\n",
              "    </script>\n",
              "  </div>\n",
              "\n",
              "\n",
              "<div id=\"df-e69479ea-75df-492f-b214-69c9d1fb75d2\">\n",
              "  <button class=\"colab-df-quickchart\" onclick=\"quickchart('df-e69479ea-75df-492f-b214-69c9d1fb75d2')\"\n",
              "            title=\"Suggest charts\"\n",
              "            style=\"display:none;\">\n",
              "\n",
              "<svg xmlns=\"http://www.w3.org/2000/svg\" height=\"24px\"viewBox=\"0 0 24 24\"\n",
              "     width=\"24px\">\n",
              "    <g>\n",
              "        <path d=\"M19 3H5c-1.1 0-2 .9-2 2v14c0 1.1.9 2 2 2h14c1.1 0 2-.9 2-2V5c0-1.1-.9-2-2-2zM9 17H7v-7h2v7zm4 0h-2V7h2v10zm4 0h-2v-4h2v4z\"/>\n",
              "    </g>\n",
              "</svg>\n",
              "  </button>\n",
              "\n",
              "<style>\n",
              "  .colab-df-quickchart {\n",
              "      --bg-color: #E8F0FE;\n",
              "      --fill-color: #1967D2;\n",
              "      --hover-bg-color: #E2EBFA;\n",
              "      --hover-fill-color: #174EA6;\n",
              "      --disabled-fill-color: #AAA;\n",
              "      --disabled-bg-color: #DDD;\n",
              "  }\n",
              "\n",
              "  [theme=dark] .colab-df-quickchart {\n",
              "      --bg-color: #3B4455;\n",
              "      --fill-color: #D2E3FC;\n",
              "      --hover-bg-color: #434B5C;\n",
              "      --hover-fill-color: #FFFFFF;\n",
              "      --disabled-bg-color: #3B4455;\n",
              "      --disabled-fill-color: #666;\n",
              "  }\n",
              "\n",
              "  .colab-df-quickchart {\n",
              "    background-color: var(--bg-color);\n",
              "    border: none;\n",
              "    border-radius: 50%;\n",
              "    cursor: pointer;\n",
              "    display: none;\n",
              "    fill: var(--fill-color);\n",
              "    height: 32px;\n",
              "    padding: 0;\n",
              "    width: 32px;\n",
              "  }\n",
              "\n",
              "  .colab-df-quickchart:hover {\n",
              "    background-color: var(--hover-bg-color);\n",
              "    box-shadow: 0 1px 2px rgba(60, 64, 67, 0.3), 0 1px 3px 1px rgba(60, 64, 67, 0.15);\n",
              "    fill: var(--button-hover-fill-color);\n",
              "  }\n",
              "\n",
              "  .colab-df-quickchart-complete:disabled,\n",
              "  .colab-df-quickchart-complete:disabled:hover {\n",
              "    background-color: var(--disabled-bg-color);\n",
              "    fill: var(--disabled-fill-color);\n",
              "    box-shadow: none;\n",
              "  }\n",
              "\n",
              "  .colab-df-spinner {\n",
              "    border: 2px solid var(--fill-color);\n",
              "    border-color: transparent;\n",
              "    border-bottom-color: var(--fill-color);\n",
              "    animation:\n",
              "      spin 1s steps(1) infinite;\n",
              "  }\n",
              "\n",
              "  @keyframes spin {\n",
              "    0% {\n",
              "      border-color: transparent;\n",
              "      border-bottom-color: var(--fill-color);\n",
              "      border-left-color: var(--fill-color);\n",
              "    }\n",
              "    20% {\n",
              "      border-color: transparent;\n",
              "      border-left-color: var(--fill-color);\n",
              "      border-top-color: var(--fill-color);\n",
              "    }\n",
              "    30% {\n",
              "      border-color: transparent;\n",
              "      border-left-color: var(--fill-color);\n",
              "      border-top-color: var(--fill-color);\n",
              "      border-right-color: var(--fill-color);\n",
              "    }\n",
              "    40% {\n",
              "      border-color: transparent;\n",
              "      border-right-color: var(--fill-color);\n",
              "      border-top-color: var(--fill-color);\n",
              "    }\n",
              "    60% {\n",
              "      border-color: transparent;\n",
              "      border-right-color: var(--fill-color);\n",
              "    }\n",
              "    80% {\n",
              "      border-color: transparent;\n",
              "      border-right-color: var(--fill-color);\n",
              "      border-bottom-color: var(--fill-color);\n",
              "    }\n",
              "    90% {\n",
              "      border-color: transparent;\n",
              "      border-bottom-color: var(--fill-color);\n",
              "    }\n",
              "  }\n",
              "</style>\n",
              "\n",
              "  <script>\n",
              "    async function quickchart(key) {\n",
              "      const quickchartButtonEl =\n",
              "        document.querySelector('#' + key + ' button');\n",
              "      quickchartButtonEl.disabled = true;  // To prevent multiple clicks.\n",
              "      quickchartButtonEl.classList.add('colab-df-spinner');\n",
              "      try {\n",
              "        const charts = await google.colab.kernel.invokeFunction(\n",
              "            'suggestCharts', [key], {});\n",
              "      } catch (error) {\n",
              "        console.error('Error during call to suggestCharts:', error);\n",
              "      }\n",
              "      quickchartButtonEl.classList.remove('colab-df-spinner');\n",
              "      quickchartButtonEl.classList.add('colab-df-quickchart-complete');\n",
              "    }\n",
              "    (() => {\n",
              "      let quickchartButtonEl =\n",
              "        document.querySelector('#df-e69479ea-75df-492f-b214-69c9d1fb75d2 button');\n",
              "      quickchartButtonEl.style.display =\n",
              "        google.colab.kernel.accessAllowed ? 'block' : 'none';\n",
              "    })();\n",
              "  </script>\n",
              "</div>\n",
              "\n",
              "    </div>\n",
              "  </div>\n"
            ]
          },
          "metadata": {},
          "execution_count": 3
        }
      ],
      "source": [
        "import pandas as pd\n",
        "\n",
        "# 드라이브에 있는 CSV 파일 읽기 예시 (lyrics.csv가 있는 파일 경로를 적어주세요)\n",
        "file_path = '/content/drive/MyDrive/연세대학교/YBIGTA/lyrics.csv'\n",
        "df = pd.read_csv(file_path)\n",
        "\n",
        "# data frame 확인\n",
        "df.head()"
      ]
    },
    {
      "cell_type": "code",
      "execution_count": 4,
      "metadata": {
        "id": "b5Rbh1er1eUG"
      },
      "outputs": [],
      "source": [
        "#데이터 중 일부만 가져오기 - 가져올 데이터 자유롭게 선택해주세요\n",
        "random_sample = df.sample(n=1000, random_state=19)"
      ]
    },
    {
      "cell_type": "code",
      "execution_count": 5,
      "metadata": {
        "id": "gRPn3gdD1gbP",
        "colab": {
          "base_uri": "https://localhost:8080/"
        },
        "outputId": "ce1fc5cb-197b-4d3a-80dd-6449e0fc21de"
      },
      "outputs": [
        {
          "output_type": "stream",
          "name": "stdout",
          "text": [
            "        Unnamed: 0              artist  \\\n",
            "67830        67830             Darkane   \n",
            "114589      114589              Kemuri   \n",
            "111513      111513                Them   \n",
            "98856        98856  Hank Williams, Jr.   \n",
            "23427        23427   The Panic Channel   \n",
            "\n",
            "                                                      seq  \\\n",
            "67830   The beauty of your escaping soul\\r\\nBehold my ...   \n",
            "114589  Are we still the same?\\r\\nOr are we so differe...   \n",
            "111513  Well, I love you, love you darlin'\\r\\nLike I n...   \n",
            "98856   Mr Weather man what is your forecast,\\r\\nI nee...   \n",
            "23427   I'm silent\\r\\nIn the rolling wake\\r\\nOf lucky ...   \n",
            "\n",
            "                       song   label  \n",
            "67830   Chase for Existence  0.0614  \n",
            "114589        Second Chance  0.8120  \n",
            "111513       All for Myself  0.8080  \n",
            "98856            Weatherman  0.3630  \n",
            "23427              Outsider  0.1650  \n"
          ]
        }
      ],
      "source": [
        "#가져온 데이터 확인\n",
        "print(random_sample.head())"
      ]
    },
    {
      "cell_type": "markdown",
      "metadata": {
        "id": "Vow1djLS1ln9"
      },
      "source": [
        "##Analyze the dataset"
      ]
    },
    {
      "cell_type": "code",
      "execution_count": 6,
      "metadata": {
        "id": "4fAjivU91r5U",
        "colab": {
          "base_uri": "https://localhost:8080/"
        },
        "outputId": "7b8fc6df-8bd7-420c-9050-575ae7f9e136"
      },
      "outputs": [
        {
          "output_type": "stream",
          "name": "stdout",
          "text": [
            "the beauty of your escaping soul\r\n",
            "behold my true distress\r\n",
            "your naked mind is barely existing\r\n",
            "corpus length: 1143721\n"
          ]
        }
      ],
      "source": [
        "#데이터프레임에서 'seq' 열(가사부분)을 선택하고, 각 행의 'seq' 값을 소문자로 변환\n",
        "random_text = random_sample['seq'].str.cat(sep='\\n').lower()\n",
        "print(random_text[:94])\n",
        "print('corpus length:', len(random_text))"
      ]
    },
    {
      "cell_type": "code",
      "execution_count": 7,
      "metadata": {
        "id": "jF-v-1nQ1t02",
        "colab": {
          "base_uri": "https://localhost:8080/"
        },
        "outputId": "4cc68085-8ff2-4a8f-9ebf-f6261aaf1ed2"
      },
      "outputs": [
        {
          "output_type": "stream",
          "name": "stdout",
          "text": [
            "the beauty of your escaping soul\r\n",
            "behold my true distress\r\n",
            "your naked mind is barely existing\r\n",
            "i have dreams you could never imagine\r\n",
            "explore your forbidden defiance\r\n",
            "see the realm of temptation\r\n",
            "knowing anger\r\n",
            "will betray me\r\n",
            "disconnected\r\n",
            "from all feelings\r\n",
            "the chase for my existence\n"
          ]
        }
      ],
      "source": [
        "# Take a look at the first 286 characters in text.\n",
        "print(random_text[:286])"
      ]
    },
    {
      "cell_type": "code",
      "execution_count": 8,
      "metadata": {
        "id": "bzsxEKR71xR1",
        "colab": {
          "base_uri": "https://localhost:8080/"
        },
        "outputId": "7205161a-bb27-4283-d347-b02561a50c03"
      },
      "outputs": [
        {
          "output_type": "stream",
          "name": "stdout",
          "text": [
            "63 unique characters\n",
            "vocab: ['\\t', '\\n', '\\r', ' ', '!', '\"', '#', '%', '&', \"'\", '(', ')', '*', '+', ',', '-', '.', '/', '0', '1', '2', '3', '4', '5', '6', '7', '8', '9', ':', ';', '>', '?', '[', ']', '`', 'a', 'b', 'c', 'd', 'e', 'f', 'g', 'h', 'i', 'j', 'k', 'l', 'm', 'n', 'o', 'p', 'q', 'r', 's', 't', 'u', 'v', 'w', 'x', 'y', 'z', '{', '}']\n"
          ]
        }
      ],
      "source": [
        "# The unique characters in the file 확인\n",
        "vocab = sorted(set(random_text))\n",
        "\n",
        "print('{} unique characters'.format(len(vocab)))\n",
        "print('vocab:', vocab)"
      ]
    },
    {
      "cell_type": "markdown",
      "metadata": {
        "id": "q69DoyMY11if"
      },
      "source": [
        "##Process the dataset"
      ]
    },
    {
      "cell_type": "markdown",
      "metadata": {
        "id": "bYkyU5yF16Bw"
      },
      "source": [
        "###Vectorize the text\n",
        "Recurrent Neural Network (RNN)에 텍스트 데이터를 입력으로 제공하기 전에, 텍스트를 문자의 시퀀스에서 숫자의 시퀀스로 변환하는 과정을 거칩니다."
      ]
    },
    {
      "cell_type": "code",
      "execution_count": 9,
      "metadata": {
        "id": "I8a2MQBL14tm",
        "colab": {
          "base_uri": "https://localhost:8080/"
        },
        "outputId": "b95feb54-0449-43a1-dff9-b2642f6563d7"
      },
      "outputs": [
        {
          "output_type": "stream",
          "name": "stdout",
          "text": [
            "{\n",
            "  '\\t':   0,\n",
            "  '\\n':   1,\n",
            "  '\\r':   2,\n",
            "  ' ' :   3,\n",
            "  '!' :   4,\n",
            "  '\"' :   5,\n",
            "  '#' :   6,\n",
            "  '%' :   7,\n",
            "  '&' :   8,\n",
            "  \"'\" :   9,\n",
            "  '(' :  10,\n",
            "  ')' :  11,\n",
            "  '*' :  12,\n",
            "  '+' :  13,\n",
            "  ',' :  14,\n",
            "  '-' :  15,\n",
            "  '.' :  16,\n",
            "  '/' :  17,\n",
            "  '0' :  18,\n",
            "  '1' :  19,\n",
            "  ...\n",
            "}\n"
          ]
        }
      ],
      "source": [
        "char2index = {char: index for index, char in enumerate(vocab)}\n",
        "\n",
        "print('{')\n",
        "for char, _ in zip(char2index, range(20)):\n",
        "    print('  {:4s}: {:3d},'.format(repr(char), char2index[char]))\n",
        "print('  ...\\n}')"
      ]
    },
    {
      "cell_type": "code",
      "execution_count": 10,
      "metadata": {
        "id": "2O3TA1Bq2BF5",
        "colab": {
          "base_uri": "https://localhost:8080/"
        },
        "outputId": "e777ad52-5312-47d0-e23b-7fe4874a79ad"
      },
      "outputs": [
        {
          "output_type": "stream",
          "name": "stdout",
          "text": [
            "['\\t' '\\n' '\\r' ' ' '!' '\"' '#' '%' '&' \"'\" '(' ')' '*' '+' ',' '-' '.'\n",
            " '/' '0' '1' '2' '3' '4' '5' '6' '7' '8' '9' ':' ';' '>' '?' '[' ']' '`'\n",
            " 'a' 'b' 'c' 'd' 'e' 'f' 'g' 'h' 'i' 'j' 'k' 'l' 'm' 'n' 'o' 'p' 'q' 'r'\n",
            " 's' 't' 'u' 'v' 'w' 'x' 'y' 'z' '{' '}']\n"
          ]
        },
        {
          "output_type": "execute_result",
          "data": {
            "text/plain": [
              "63"
            ]
          },
          "metadata": {},
          "execution_count": 10
        }
      ],
      "source": [
        "# Map character indices to characters from vacabulary.\n",
        "index2char = np.array(vocab)\n",
        "print(index2char)\n",
        "\n",
        "len(index2char)"
      ]
    },
    {
      "cell_type": "code",
      "execution_count": 11,
      "metadata": {
        "id": "nSFDK8un2EQg",
        "colab": {
          "base_uri": "https://localhost:8080/"
        },
        "outputId": "0758886b-f896-4aba-b7a6-3484887afb4b"
      },
      "outputs": [
        {
          "output_type": "stream",
          "name": "stdout",
          "text": [
            "text_as_int length: 1143721\n",
            "'the beauty of your escaping soul' --> array([54, 42, 39,  3, 36, 39, 35, 55, 54, 59,  3, 49, 40,  3, 59, 49, 55,\n",
            "       52,  3, 39, 53, 37, 35, 50, 43, 48, 41,  3, 53, 49, 55, 46])\n"
          ]
        }
      ],
      "source": [
        "# Convert chars in text to indices.\n",
        "text_as_int = np.array([char2index[char] for char in random_text])\n",
        "\n",
        "print('text_as_int length: {}'.format(len(text_as_int)))\n",
        "print('{} --> {}'.format(repr(random_text[:32]), repr(text_as_int[:32])))"
      ]
    },
    {
      "cell_type": "markdown",
      "metadata": {
        "id": "lQVux07S2LlN"
      },
      "source": [
        "## Create training sequences"
      ]
    },
    {
      "cell_type": "code",
      "execution_count": 12,
      "metadata": {
        "id": "nmSyEX0F2OG2",
        "colab": {
          "base_uri": "https://localhost:8080/"
        },
        "outputId": "648164c0-562a-4090-b6f4-97ac237675c4"
      },
      "outputs": [
        {
          "output_type": "stream",
          "name": "stdout",
          "text": [
            "Sentence Window\n",
            "['the beauty of your escaping soul\\r\\nbehold my true d', 'he beauty of your escaping soul\\r\\nbehold my true di', 'e beauty of your escaping soul\\r\\nbehold my true dis', ' beauty of your escaping soul\\r\\nbehold my true dist', 'beauty of your escaping soul\\r\\nbehold my true distr']\n",
            "Target charaters\n",
            "['i' 's' 't' 'r' 'e']\n",
            "Number of sequences: 1143671\n"
          ]
        }
      ],
      "source": [
        "seq_length = 50\n",
        "step = 1\n",
        "sentences = []\n",
        "next_chars = []\n",
        "\n",
        "for i in range(0, len(random_text) - seq_length, step):\n",
        "  sentences.append(random_text[i:i+seq_length])\n",
        "  next_chars.append(random_text[i+seq_length]) #Next character\n",
        "\n",
        "senteces = np.array(sentences)\n",
        "next_chars= np.array(next_chars)\n",
        "\n",
        "\n",
        "#Print Sentence Window and next charaters\n",
        "print('Sentence Window')\n",
        "print (sentences[:5])\n",
        "print('Target charaters')\n",
        "print (next_chars[:5])\n",
        "print('Number of sequences:', len(sentences))"
      ]
    },
    {
      "cell_type": "code",
      "execution_count": 13,
      "metadata": {
        "id": "i9OxqoOQ2Sq_"
      },
      "outputs": [],
      "source": [
        "def getdata(sentences, next_chars):\n",
        "    X = np.zeros((len(sentences),seq_length))\n",
        "    y = np.zeros((len(sentences)))\n",
        "    length = len(sentences)\n",
        "    index = 0\n",
        "    for i in range(len(sentences)):\n",
        "        sentence = sentences[i]\n",
        "        for t, char in enumerate(sentence):\n",
        "            X[i, t] = char2index[char]\n",
        "        y[i] = char2index[next_chars[i]]\n",
        "    return X, y"
      ]
    },
    {
      "cell_type": "code",
      "execution_count": 14,
      "metadata": {
        "id": "V1F2Nb9b2UlX",
        "colab": {
          "base_uri": "https://localhost:8080/"
        },
        "outputId": "5de4497c-18d3-4ba7-83e7-910d771a7d8e"
      },
      "outputs": [
        {
          "output_type": "stream",
          "name": "stdout",
          "text": [
            "Shape of training_x: (1143671, 50)\n",
            "Shape of training_y: (1143671,)\n"
          ]
        }
      ],
      "source": [
        "train_x,train_y = getdata(sentences, next_chars)\n",
        "print('Shape of training_x:', train_x.shape)\n",
        "print('Shape of training_y:', train_y.shape)"
      ]
    },
    {
      "cell_type": "markdown",
      "metadata": {
        "id": "MYsqkk1Z2aMT"
      },
      "source": [
        "##Build the Model(Pytorch)\n",
        "## 추과 과제 1 : 아래 빈 곳을 채워주세요!\n",
        "- Embedding layer : transfer index to embedding vector\n",
        "- Simple LSTM + dropout : Sequence data to hidden states , dropout for prevent overfitting\n",
        "- Fully connection layer : linear tranfer to a n_vocab vector to be output layer.  \n",
        "we don't need to do softmax here, we will do it when we calculate loss function"
      ]
    },
    {
      "cell_type": "code",
      "execution_count": 15,
      "metadata": {
        "id": "9-izwsvq2bMS"
      },
      "outputs": [],
      "source": [
        "import torch\n",
        "import torch.nn as nn\n",
        "import torch.nn.functional as F\n",
        "import torch.optim as optim\n",
        "from torch.autograd import Variable\n",
        "\n",
        "class Simple_LSTM(nn.Module):\n",
        "    def __init__(self,n_vocab,hidden_dim, embedding_dim,dropout = 0.2):\n",
        "        super(Simple_LSTM, self).__init__()\n",
        "        ##################################################################\n",
        "        # TODO: 주석, ________ 부분 지우고 답안 작성해주세요.\n",
        "        #\n",
        "        # Hint: 위에 embedding layer, simple LSTM + dropout, fully connected layer 설명 부분을 읽고 채워주시면 됩니다.\n",
        "        #\n",
        "        ##################################################################\n",
        "        # 아래 주석 해제 후 정의해주세요.\n",
        "        self.hidden_dim = hidden_dim\n",
        "        self.embedding_dim = embedding_dim\n",
        "        self.lstm = nn.LSTM(embedding_dim, hidden_dim, dropout = dropout, num_layers = 2)\n",
        "        self.embeddings = nn.Embedding(n_vocab, embedding_dim)\n",
        "        self.fc = nn.Linear(hidden_dim, embedding_dim)\n",
        "        ##################################################################\n",
        "        #                         END OF YOUR CODE                       #\n",
        "        ##################################################################\n",
        "\n",
        "    def forward(self, seq_in):\n",
        "        # for LSTM, input should be (Sequnce_length,batchsize,hidden_layer), so we need to transpose the input\n",
        "        embedded = self.embeddings(seq_in.t())\n",
        "        lstm_out, _ = self.lstm(embedded)\n",
        "        # Only need to keep the last character\n",
        "        ht=lstm_out[-1]\n",
        "        out = self.fc(ht)\n",
        "        return out"
      ]
    },
    {
      "cell_type": "markdown",
      "metadata": {
        "id": "HsBNZmn72has"
      },
      "source": [
        "## Create DataLoader of mini-batch training\n",
        "Use GPU to training"
      ]
    },
    {
      "cell_type": "code",
      "execution_count": 16,
      "metadata": {
        "id": "oxniKXkX2kMY"
      },
      "outputs": [],
      "source": [
        "X_train_tensor = torch.tensor(train_x, dtype=torch.long).cuda()\n",
        "Y_train_tensor = torch.tensor(train_y, dtype=torch.long).cuda()"
      ]
    },
    {
      "cell_type": "code",
      "execution_count": 17,
      "metadata": {
        "id": "LHQTDkkI2m_X"
      },
      "outputs": [],
      "source": [
        "from torch.utils.data import Dataset, DataLoader\n",
        "train = torch.utils.data.TensorDataset(X_train_tensor,Y_train_tensor)\n",
        "train_loader = torch.utils.data.DataLoader(train, batch_size = 32) #batch_size 자유롭게 바꿔주세요"
      ]
    },
    {
      "cell_type": "markdown",
      "metadata": {
        "id": "39856I6b2rna"
      },
      "source": [
        "##Start training\n",
        "- Hidden_size : 256\n",
        "- Embedding_size : 256\n",
        "- Use Adam optimizer(변경 가능)"
      ]
    },
    {
      "cell_type": "code",
      "execution_count": 18,
      "metadata": {
        "id": "lctdA0O52tYl"
      },
      "outputs": [],
      "source": [
        "model = Simple_LSTM(63,256,256)\n",
        "model.cuda()\n",
        "optimizer = torch.optim.Adam(model.parameters(), lr = 0.002) # optimizer 자유롭게 바꿔주세요"
      ]
    },
    {
      "cell_type": "code",
      "execution_count": 19,
      "metadata": {
        "id": "VCyrqWdB21Cf",
        "colab": {
          "base_uri": "https://localhost:8080/"
        },
        "outputId": "2ebc3311-424a-4131-81c1-675f96db5f47"
      },
      "outputs": [
        {
          "output_type": "stream",
          "name": "stdout",
          "text": [
            "Epoch 1/10 \t loss=1.6500 \t time=232.07s\n",
            "Epoch 2/10 \t loss=1.5207 \t time=228.91s\n",
            "Epoch 3/10 \t loss=1.4872 \t time=228.58s\n",
            "Epoch 4/10 \t loss=1.4654 \t time=228.08s\n",
            "Epoch 5/10 \t loss=1.4504 \t time=228.28s\n",
            "Epoch 6/10 \t loss=1.4396 \t time=228.04s\n",
            "Epoch 7/10 \t loss=1.4319 \t time=228.44s\n",
            "Epoch 8/10 \t loss=1.4240 \t time=227.71s\n",
            "Epoch 9/10 \t loss=1.4187 \t time=228.24s\n",
            "Epoch 10/10 \t loss=1.4131 \t time=227.75s\n",
            "All \t loss=1.4701 \t \n"
          ]
        }
      ],
      "source": [
        "import time # Add time counter\n",
        "avg_losses_f = []\n",
        "n_epochs=10\n",
        "\n",
        "for epoch in range(n_epochs):\n",
        "    start_time = time.time()\n",
        "    model.train()\n",
        "    loss_fn = torch.nn.CrossEntropyLoss()\n",
        "    avg_loss = 0.\n",
        "    for i, (x_batch, y_batch) in enumerate(train_loader):\n",
        "        y_pred = model(x_batch)\n",
        "\n",
        "        loss = loss_fn(y_pred, y_batch)\n",
        "        optimizer.zero_grad()\n",
        "        loss.backward()\n",
        "\n",
        "        optimizer.step()\n",
        "        avg_loss+= loss.item()/len(train_loader)\n",
        "    elapsed_time = time.time() - start_time\n",
        "    print('Epoch {}/{} \\t loss={:.4f} \\t time={:.2f}s'.format(\n",
        "        epoch + 1, n_epochs, avg_loss, elapsed_time))\n",
        "\n",
        "    avg_losses_f.append(avg_loss)\n",
        "\n",
        "print('All \\t loss={:.4f} \\t '.format(np.average(avg_losses_f)))"
      ]
    },
    {
      "cell_type": "markdown",
      "metadata": {
        "id": "f_Na3v8B3L2Q"
      },
      "source": [
        "##결과 도식화"
      ]
    },
    {
      "cell_type": "code",
      "execution_count": 20,
      "metadata": {
        "id": "mIJh9gNm3M3e",
        "colab": {
          "base_uri": "https://localhost:8080/",
          "height": 449
        },
        "outputId": "fdc99dab-6e03-4d9f-c363-39f66834a7e7"
      },
      "outputs": [
        {
          "output_type": "display_data",
          "data": {
            "text/plain": [
              "<Figure size 640x480 with 1 Axes>"
            ],
            "image/png": "[encoded data removed]"
          },
          "metadata": {}
        }
      ],
      "source": [
        "import matplotlib.pyplot as plt\n",
        "\n",
        "plt.plot(avg_losses_f)\n",
        "plt.xlabel('Epoch')\n",
        "plt.ylabel('Loss value')\n",
        "plt.show()"
      ]
    },
    {
      "cell_type": "markdown",
      "metadata": {
        "id": "FPqcB6qq3WhR"
      },
      "source": [
        "##Create the function that can sample an index from a probability array\n",
        "- This function is to prevent the most likely chracter always be chosen."
      ]
    },
    {
      "cell_type": "code",
      "execution_count": 21,
      "metadata": {
        "id": "iNTk5dkY3XV5"
      },
      "outputs": [],
      "source": [
        "def sample(preds, temperature=1.0):\n",
        "    preds = np.asarray(preds).astype('float64')\n",
        "    preds = np.log(preds) / temperature\n",
        "    exp_preds = np.exp(preds)\n",
        "    preds = exp_preds / np.sum(exp_preds)\n",
        "    probas = np.random.multinomial(1, preds, 1)\n",
        "    return np.argmax(probas)"
      ]
    },
    {
      "cell_type": "markdown",
      "metadata": {
        "id": "O37RYi4v3a_c"
      },
      "source": [
        "## Validate the model\n",
        "- Define the 50 start sentence legth (앞에 seq_lenth 바꾸면 sentence length 바꾸기 가능)\n",
        "- Predict next char\n",
        "- Total create 400 characters lyrics"
      ]
    },
    {
      "cell_type": "code",
      "execution_count": 22,
      "metadata": {
        "id": "lsCmCcii3iJB",
        "colab": {
          "base_uri": "https://localhost:8080/"
        },
        "outputId": "2668d47f-896b-4aff-ee37-9fb2a3be1cb7"
      },
      "outputs": [
        {
          "output_type": "stream",
          "name": "stdout",
          "text": [
            "i read in the book\n",
            "that the joyful man\n",
            "please knos\" .. .. h -- i na ).\rh-).)\r\r\r\r\r\r\r\r\r\re?\n",
            "-.-.----------------)-.--z---)h -!.\r\r\r\r\r\r\r\r\r\r------).-).)-.  .. ..  ... ..-]\r----------?---)-;o . ---------)k z i b b --!)...) ....)..-.).) ..-.-..-.).) .) .. .. ..)2 - ..\r\ri , -- .. ).)..\rh-o ---) -) .-1-)..)... .- .-  .)...)..  ..); ...----o -) .).-2..]...  .. .. ..... ..... \r\r\r\r\r\ri ...a  --)  .. .o . . ----.--;o ...)... .).\r\r\r\r\r\r\r\r\r\r\r\r\r\r\r\r\rho?-..--4---;  \n"
          ]
        },
        {
          "output_type": "stream",
          "name": "stderr",
          "text": [
            "<ipython-input-21-66c6eecb696d>:3: RuntimeWarning: divide by zero encountered in log\n",
            "  preds = np.log(preds) / temperature\n"
          ]
        }
      ],
      "source": [
        "# Define the start sentence\n",
        "sentence = 'i read in the book\\nthat the joyful man\\nplease kno'\n",
        "variance = 0.25\n",
        "generated = ''\n",
        "original = sentence\n",
        "window = sentence\n",
        "\n",
        "for i in range(400):\n",
        "    x = np.zeros((1, seq_length))\n",
        "    for t, char in enumerate(window):\n",
        "        x[0, t] = char2index[char] # Change the sentence to index vector shape (1,50)\n",
        "\n",
        "    x_in = Variable(torch.LongTensor(x).cuda())\n",
        "    pred = model(x_in)\n",
        "    pred = np.array(F.softmax(pred, dim=1).data[0].cpu())\n",
        "    next_index = sample(pred, variance)\n",
        "    next_char = index2char[next_index] # index to char\n",
        "\n",
        "    generated += next_char\n",
        "    window = window[1:] + next_char # Update Window for next char predict\n",
        "\n",
        "print(original + generated)"
      ]
    },
    {
      "cell_type": "markdown",
      "metadata": {
        "id": "FI5iJ0qr9nFd"
      },
      "source": [
        "추가과제 -2\n",
        "## Pytorch로 RNN 구현해보기"
      ]
    },
    {
      "cell_type": "markdown",
      "metadata": {
        "id": "Smp0bv5T9KDV"
      },
      "source": [
        "## 1. RNN 구현\n",
        "Pytorch로 neural network 모델을 구현할 때에는 `nn.Module`을 상속받아서 구현하게 됩니다.\n",
        "\n",
        "### [참고] 객체지향 개념을 잘 모른다면?\n",
        "객체지향 개념을 잘 모르신다면 <b>상속</b>이란 상속을 받은 클래스 (여기서는 CustomRNN)가 부모 클래스 (`nn.Module`)의 멤버 변수와 메소드를 그대로 넘겨받아 필요에 맞게 재정의하거나 기타 필요한 기능들을 추가해서 사용하는 행위로 쉽게 이해하시면 됩니다. 이를 통해 코드의 중복도를 낮추고 보다 효율적인 설계를 할 수 있습니다.\n",
        "\n",
        "예를 들어서 `nn.Module` 클래스를 상속받아 만든 모든 클래스들은 `__init()__` 생성자와 `forward()` 메소드를 구현함으로써 모든 neural network가 high level에서는 동일한 동작을 함을 보장할 수 있습니다.\n",
        "\n",
        "만약 상속 기능을 사용하지 않는다면 모델을 training하는 코드, inference를 하는 코드 등을 neural network 종류마다 새로 짜야 하므로 복잡해집니다.\n",
        "\n",
        "### 구현 관련 배경지식\n",
        "`nn.Module` 클래스를 상속받으면 `__init__()` 생성자와 `forward()` 메소드를 구현해야 합니다. 생성자에서는 모델에서 사용할 기본적인 멤버 변수들을 초기화하게 됩니다. 여기서 멤버 변수로는 크게 두 가지가 있습니다.\n",
        "1. 모델 아키텍쳐와 관련된 dimension들 (각각의 의미는 발제 PPT 참고)\n",
        " - Input vector의 길이\n",
        " - Hidden layer의 길이\n",
        " - Output vector의 길이\n",
        " - Batch size\n",
        "\n",
        "\n",
        "2. 모델에서 사용될 layer들\n",
        " - Pytorch의 `nn` module에서는 neural network에서 사용되는 다양한 layer를 미리 구현해 두었습니다. Convolution layer, pooling layer, linear layer 등이 정의되어 있어서 복잡한 연산을 직접 구현할 필요가 없습니다. 본 과제에서는 해당 layer를 쌓아서 RNN을 구현한다고 보시면 됩니다.\n",
        " - 본 과제에서는 Linear layer만 활용하면 됩니다. 이는 MLP 세션에서 배운 fully connected layer와 같습니다. FC layer이므로 input, output의 size와 bias 사용 유무만 정의해주면 됩니다. https://pytorch.org/docs/stable/generated/torch.nn.Linear.html#torch.nn.Linear\n",
        "\n",
        "\n",
        "생성자를 정의했으면 `forward()` 함수를 정의할 차례입니다. `forward()` 메소드가 모델 구현에서 핵심입니다. 이 메소드는 모델에 input data를 집어넣으면 자동으로 호출되고 argument로 input이 전달됩니다. 앞서 정의한 layer들을 잘 호출해서 메소드를 구현하시면 됩니다.\n",
        "\n",
        "\n",
        "*Backward pass는 모델 train을 할 때 `backward()`가 알아서 해주기 때문에 `forward()`만 정의하는 것입니다."
      ]
    },
    {
      "cell_type": "code",
      "execution_count": 23,
      "metadata": {
        "id": "dDbl35zl95nQ"
      },
      "outputs": [],
      "source": [
        "import numpy as np\n",
        "import random\n",
        "import torch\n",
        "import torch.nn as nn\n",
        "import torch.optim as optim\n",
        "from torch.utils.data import Dataset, DataLoader"
      ]
    },
    {
      "cell_type": "code",
      "execution_count": 26,
      "metadata": {
        "id": "N2YsSoYG98Lh"
      },
      "outputs": [],
      "source": [
        "# nn.Module을 상속받아서 CustomRNN class 정의\n",
        "\n",
        "class CustomRNN(nn.Module):\n",
        "    \"\"\"\n",
        "    RNN basic block\n",
        "    \"\"\"\n",
        "    def __init__(self, input_size, hidden_size, output_size):\n",
        "        \"\"\"\n",
        "        input_size: Input vector 길이\n",
        "        hidden_size: Hidden state vector 길이\n",
        "        output_size: Output vector 길이\n",
        "        \"\"\"\n",
        "        super().__init__()\n",
        "        self.input_size = input_size\n",
        "        self.hidden_size = hidden_size\n",
        "        self.output_size = output_size\n",
        "\n",
        "        self.W_xh = nn.Linear(input_size, hidden_size, bias=False)\n",
        "        ##################################################################\n",
        "        # TODO: 필요한 멤버 변수 2개를 추가로 정의하세요.\n",
        "        #\n",
        "        # 1. W_hh: hidden layer vector에 곱해지는 weight\n",
        "        # 2. W_hy: hidden layer로 output을 생성할 때 곱해지는 weight\n",
        "        #\n",
        "        # Hint: 위의 self.W_xh 코드를 참고하세요.\n",
        "        #\n",
        "        ##################################################################\n",
        "        # 아래 주석 해제 후 정의하시면 됩니다. bias는 둘 다 True로 해주세요.\n",
        "        self.W_hh = nn.Linear(hidden_size, hidden_size, bias = True)\n",
        "        self.W_hy = nn.Linear(hidden_size, output_size, bias = True)\n",
        "        ##################################################################\n",
        "        #                         END OF YOUR CODE                       #\n",
        "        ##################################################################\n",
        "\n",
        "    def forward(self, x, hidden_state):\n",
        "        W_xh_x = self.W_xh(x)  # W_xh weight에 input x를 곱해준 결과\n",
        "        ##################################################################\n",
        "        # TODO: Forward pass를 계산하는 코드를 추가하세요.\n",
        "        #\n",
        "        ########################### 전체 과정 ##############################\n",
        "        #\n",
        "        # 1. W_xh와 input을 곱한다.\n",
        "        # 2. W_hh와 {t - 1} 시점에서의 hidden state vector를 곱한다.\n",
        "        # 3. 둘이 더한다.\n",
        "        # 4. tanh를 통과시켜서 새로운 hidden state를 만들어낸다.\n",
        "        # 5. W_hy와 새로운 hidden state를 곱해서 output을 만들어낸다.\n",
        "        # 6. output과 새로운 hidden state를 return한다.\n",
        "        #\n",
        "        # Hint: torch.tanh\n",
        "        #\n",
        "        ##################################################################\n",
        "        # 아래 주석 해제 후 추가하시면 됩니다.\n",
        "        W_hh_x = W_xh_x(hidden_state)\n",
        "        hidden_state = torch.tanh(W_hh_x)\n",
        "        output = self.W_hy(hidden_state)\n",
        "        ##################################################################\n",
        "        #                         END OF YOUR CODE                       #\n",
        "        ##################################################################\n",
        "        # 아래 주석도 해제하세요.\n",
        "        return output, hidden_state"
      ]
    },
    {
      "cell_type": "code",
      "execution_count": 27,
      "metadata": {
        "id": "ePzKcHO--CoE",
        "colab": {
          "base_uri": "https://localhost:8080/"
        },
        "outputId": "7c26e65a-deca-49ac-9bb7-f5adcb1ad21a"
      },
      "outputs": [
        {
          "output_type": "stream",
          "name": "stdout",
          "text": [
            "Correct!!!\n"
          ]
        }
      ],
      "source": [
        "#Correct! 가 나오면 정답!\n",
        "model = CustomRNN(5, 6, 7)\n",
        "model_str = str(model).splitlines()\n",
        "import numpy\n",
        "stack = []\n",
        "for i in range(1, 4):\n",
        "    stack.append(int(model_str[i][29]))\n",
        "    stack.append(int(model_str[i][45]))\n",
        "\n",
        "prod = numpy.prod(stack)\n",
        "\n",
        "if prod == 45360:\n",
        "    print(\"Correct!!!\")\n",
        "else:\n",
        "    print(\"Incorrect...\")"
      ]
    }
  ],
  "metadata": {
    "colab": {
      "collapsed_sections": [
        "oQPMObZT1Cvw",
        "Vow1djLS1ln9",
        "q69DoyMY11if",
        "bYkyU5yF16Bw",
        "lQVux07S2LlN",
        "HsBNZmn72has"
      ],
      "provenance": [],
      "gpuType": "T4"
    },
    "kernelspec": {
      "display_name": "Python 3",
      "name": "python3"
    },
    "language_info": {
      "codemirror_mode": {
        "name": "ipython",
        "version": 3
      },
      "file_extension": ".py",
      "mimetype": "text/x-python",
      "name": "python",
      "nbconvert_exporter": "python",
      "pygments_lexer": "ipython3",
      "version": "3.11.7"
    },
    "accelerator": "GPU"
  },
  "nbformat": 4,
  "nbformat_minor": 0
}